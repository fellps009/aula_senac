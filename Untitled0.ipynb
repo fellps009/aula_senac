{
  "nbformat": 4,
  "nbformat_minor": 0,
  "metadata": {
    "colab": {
      "provenance": []
    },
    "kernelspec": {
      "name": "python3",
      "display_name": "Python 3"
    },
    "language_info": {
      "name": "python"
    }
  },
  "cells": [
    {
      "cell_type": "markdown",
      "source": [
        "visualizar dados de uma tabela com SQLite\n"
      ],
      "metadata": {
        "id": "UgboBVo45rZ-"
      }
    },
    {
      "cell_type": "code",
      "source": [
        "import sqlite3\n",
        "\n",
        "conexao = sqlite3.connect('exemplo.db')\n",
        "cursor = conexao.cursor()\n",
        "\n",
        "cursor.execute('UPDATE usuarios SET idade = ? WHERE nome ?', (40, 'Alice'))\n",
        "conexao.commit()\n",
        "\n",
        "conexao.close()"
      ],
      "metadata": {
        "id": "TEkO0dRV6LYm"
      },
      "execution_count": null,
      "outputs": []
    },
    {
      "cell_type": "code",
      "source": [
        "import sqlite3\n",
        "cenexao = sqlite3.connect('exemplo.db')\n",
        "conexao = conexao.cursor()\n",
        "\n",
        "cursor.execute('SELECT * FROM usuarios')\n",
        "dados = cursor.fetchall()\n",
        "for linha in dados:\n",
        "  print(linha)\n",
        "\n",
        "  conexao.close()"
      ],
      "metadata": {
        "id": "eYPAWYZz9d3d"
      },
      "execution_count": null,
      "outputs": []
    },
    {
      "cell_type": "code",
      "source": [
        "import sqlite3\n",
        "\n",
        "conexao = sqlite3.connect('exemplo.db')\n",
        "cursor = conexao.cursor()\n",
        "\n",
        "cursor.execute('DELETE FROM usuarios WHERE id = ?', (1,))\n",
        "conexao.commit()\n",
        "\n",
        "conexao.close()"
      ],
      "metadata": {
        "id": "V19DZMdJ-3IV"
      },
      "execution_count": null,
      "outputs": []
    }
  ]
}